{
 "cells": [
  {
   "cell_type": "markdown",
   "metadata": {},
   "source": [
    "# Chatur Veda Vyas kurma\n",
    "\n"
   ]
  },
  {
   "cell_type": "code",
   "execution_count": null,
   "metadata": {},
   "outputs": [],
   "source": [
    "print(\"python\")\n",
    "number_of_lines = 4\n",
    "strike = 1\n",
    "while strike < number_of_lines+1:\n",
    "    for m in range(0,strike):\n",
    "        print('#',end = '')\n",
    "    spaces = (number_of_lines*2)-(2*strike)\n",
    "    for space  in range(0,spaces):\n",
    "        print(' ',end = '')\n",
    "    for n in range(0,strike):\n",
    "        print('#', end = '')\n",
    "    print()\n",
    "    strike += 1\n",
    "print(\"\")"
   ]
  }
 ],
 "metadata": {
  "kernelspec": {
   "display_name": "Python 3",
   "language": "python",
   "name": "python3"
  },
  "language_info": {
   "codemirror_mode": {
    "name": "ipython",
    "version": 3
   },
   "file_extension": ".py",
   "mimetype": "text/x-python",
   "name": "python",
   "nbconvert_exporter": "python",
   "pygments_lexer": "ipython3",
   "version": "3.7.3"
  }
 },
 "nbformat": 4,
 "nbformat_minor": 2
}
